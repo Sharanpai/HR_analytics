{
 "cells": [
  {
   "cell_type": "code",
   "execution_count": 32,
   "metadata": {},
   "outputs": [],
   "source": [
    "import numpy as np\n",
    "import pandas as pd\n",
    "import sklearn \n",
    "import matplotlib.pyplot as plt\n",
    "\n",
    "from sklearn.preprocessing import LabelEncoder\n",
    "from sklearn.model_selection import train_test_split\n",
    "from sklearn.neighbors import KNeighborsRegressor\n",
    "\n",
    "from sklearn.ensemble import ExtraTreesClassifier\n",
    "from sklearn.metrics import accuracy_score\n",
    "\n",
    "from sklearn.neural_network import MLPClassifier\n",
    "from sklearn.neighbors import KNeighborsClassifier\n",
    "from sklearn.gaussian_process import GaussianProcessClassifier\n",
    "from sklearn.tree import DecisionTreeClassifier\n",
    "from sklearn.ensemble import RandomForestClassifier, AdaBoostClassifier, GradientBoostingClassifier\n",
    "from sklearn.naive_bayes import GaussianNB\n",
    "from sklearn.discriminant_analysis import QuadraticDiscriminantAnalysis\n",
    "\n",
    "import heapq, random\n",
    "\n",
    "%matplotlib inline"
   ]
  },
  {
   "cell_type": "markdown",
   "metadata": {},
   "source": [
    "### Importing the Data"
   ]
  },
  {
   "cell_type": "code",
   "execution_count": 2,
   "metadata": {},
   "outputs": [],
   "source": [
    "data = pd.read_excel(\"data.xlsx\",sheet_name = 1)"
   ]
  },
  {
   "cell_type": "markdown",
   "metadata": {},
   "source": [
    "### Visualizing part of the dataset"
   ]
  },
  {
   "cell_type": "code",
   "execution_count": 3,
   "metadata": {},
   "outputs": [
    {
     "data": {
      "text/html": [
       "<div>\n",
       "<style scoped>\n",
       "    .dataframe tbody tr th:only-of-type {\n",
       "        vertical-align: middle;\n",
       "    }\n",
       "\n",
       "    .dataframe tbody tr th {\n",
       "        vertical-align: top;\n",
       "    }\n",
       "\n",
       "    .dataframe thead th {\n",
       "        text-align: right;\n",
       "    }\n",
       "</style>\n",
       "<table border=\"1\" class=\"dataframe\">\n",
       "  <thead>\n",
       "    <tr style=\"text-align: right;\">\n",
       "      <th></th>\n",
       "      <th>Candidate Ref</th>\n",
       "      <th>DOJ Extended</th>\n",
       "      <th>Duration to accept offer</th>\n",
       "      <th>Notice period</th>\n",
       "      <th>Offered band</th>\n",
       "      <th>Pecent hike expected in CTC</th>\n",
       "      <th>Percent hike offered in CTC</th>\n",
       "      <th>Percent difference CTC</th>\n",
       "      <th>Joining Bonus</th>\n",
       "      <th>Candidate relocate actual</th>\n",
       "      <th>Gender</th>\n",
       "      <th>Candidate Source</th>\n",
       "      <th>Rex in Yrs</th>\n",
       "      <th>LOB</th>\n",
       "      <th>Location</th>\n",
       "      <th>Age</th>\n",
       "      <th>Status</th>\n",
       "    </tr>\n",
       "  </thead>\n",
       "  <tbody>\n",
       "    <tr>\n",
       "      <th>0</th>\n",
       "      <td>2110407</td>\n",
       "      <td>Yes</td>\n",
       "      <td>14.0</td>\n",
       "      <td>30</td>\n",
       "      <td>E2</td>\n",
       "      <td>-20.79</td>\n",
       "      <td>13.16</td>\n",
       "      <td>42.86</td>\n",
       "      <td>No</td>\n",
       "      <td>No</td>\n",
       "      <td>Female</td>\n",
       "      <td>Agency</td>\n",
       "      <td>7</td>\n",
       "      <td>ERS</td>\n",
       "      <td>Noida</td>\n",
       "      <td>34</td>\n",
       "      <td>Joined</td>\n",
       "    </tr>\n",
       "    <tr>\n",
       "      <th>1</th>\n",
       "      <td>2112635</td>\n",
       "      <td>No</td>\n",
       "      <td>18.0</td>\n",
       "      <td>30</td>\n",
       "      <td>E2</td>\n",
       "      <td>50.00</td>\n",
       "      <td>320.00</td>\n",
       "      <td>180.00</td>\n",
       "      <td>No</td>\n",
       "      <td>No</td>\n",
       "      <td>Male</td>\n",
       "      <td>Employee Referral</td>\n",
       "      <td>8</td>\n",
       "      <td>INFRA</td>\n",
       "      <td>Chennai</td>\n",
       "      <td>34</td>\n",
       "      <td>Joined</td>\n",
       "    </tr>\n",
       "    <tr>\n",
       "      <th>2</th>\n",
       "      <td>2112838</td>\n",
       "      <td>No</td>\n",
       "      <td>3.0</td>\n",
       "      <td>45</td>\n",
       "      <td>E2</td>\n",
       "      <td>42.84</td>\n",
       "      <td>42.84</td>\n",
       "      <td>0.00</td>\n",
       "      <td>No</td>\n",
       "      <td>No</td>\n",
       "      <td>Male</td>\n",
       "      <td>Agency</td>\n",
       "      <td>4</td>\n",
       "      <td>INFRA</td>\n",
       "      <td>Noida</td>\n",
       "      <td>27</td>\n",
       "      <td>Joined</td>\n",
       "    </tr>\n",
       "    <tr>\n",
       "      <th>3</th>\n",
       "      <td>2115021</td>\n",
       "      <td>No</td>\n",
       "      <td>26.0</td>\n",
       "      <td>30</td>\n",
       "      <td>E2</td>\n",
       "      <td>42.84</td>\n",
       "      <td>42.84</td>\n",
       "      <td>0.00</td>\n",
       "      <td>No</td>\n",
       "      <td>No</td>\n",
       "      <td>Male</td>\n",
       "      <td>Employee Referral</td>\n",
       "      <td>4</td>\n",
       "      <td>INFRA</td>\n",
       "      <td>Noida</td>\n",
       "      <td>34</td>\n",
       "      <td>Joined</td>\n",
       "    </tr>\n",
       "    <tr>\n",
       "      <th>4</th>\n",
       "      <td>2115125</td>\n",
       "      <td>Yes</td>\n",
       "      <td>1.0</td>\n",
       "      <td>120</td>\n",
       "      <td>E2</td>\n",
       "      <td>42.59</td>\n",
       "      <td>42.59</td>\n",
       "      <td>0.00</td>\n",
       "      <td>No</td>\n",
       "      <td>Yes</td>\n",
       "      <td>Male</td>\n",
       "      <td>Employee Referral</td>\n",
       "      <td>6</td>\n",
       "      <td>INFRA</td>\n",
       "      <td>Noida</td>\n",
       "      <td>34</td>\n",
       "      <td>Joined</td>\n",
       "    </tr>\n",
       "  </tbody>\n",
       "</table>\n",
       "</div>"
      ],
      "text/plain": [
       "   Candidate Ref DOJ Extended  Duration to accept offer  Notice period  \\\n",
       "0        2110407          Yes                      14.0             30   \n",
       "1        2112635           No                      18.0             30   \n",
       "2        2112838           No                       3.0             45   \n",
       "3        2115021           No                      26.0             30   \n",
       "4        2115125          Yes                       1.0            120   \n",
       "\n",
       "  Offered band  Pecent hike expected in CTC  Percent hike offered in CTC  \\\n",
       "0           E2                       -20.79                        13.16   \n",
       "1           E2                        50.00                       320.00   \n",
       "2           E2                        42.84                        42.84   \n",
       "3           E2                        42.84                        42.84   \n",
       "4           E2                        42.59                        42.59   \n",
       "\n",
       "   Percent difference CTC Joining Bonus Candidate relocate actual  Gender  \\\n",
       "0                   42.86            No                        No  Female   \n",
       "1                  180.00            No                        No    Male   \n",
       "2                    0.00            No                        No    Male   \n",
       "3                    0.00            No                        No    Male   \n",
       "4                    0.00            No                       Yes    Male   \n",
       "\n",
       "    Candidate Source  Rex in Yrs    LOB Location  Age  Status  \n",
       "0             Agency           7    ERS    Noida   34  Joined  \n",
       "1  Employee Referral           8  INFRA  Chennai   34  Joined  \n",
       "2             Agency           4  INFRA    Noida   27  Joined  \n",
       "3  Employee Referral           4  INFRA    Noida   34  Joined  \n",
       "4  Employee Referral           6  INFRA    Noida   34  Joined  "
      ]
     },
     "execution_count": 3,
     "metadata": {},
     "output_type": "execute_result"
    }
   ],
   "source": [
    "data.head()"
   ]
  },
  {
   "cell_type": "markdown",
   "metadata": {},
   "source": [
    "### Checking out the number of missing values in each variable"
   ]
  },
  {
   "cell_type": "code",
   "execution_count": 11,
   "metadata": {},
   "outputs": [
    {
     "data": {
      "image/png": "[encoded data removed]",
      "text/plain": [
       "<Figure size 360x576 with 1 Axes>"
      ]
     },
     "metadata": {
      "needs_background": "light"
     },
     "output_type": "display_data"
    }
   ],
   "source": [
    "missing_df = data.isnull().sum(axis=0).reset_index()\n",
    "missing_df.columns = ['column_name', 'missing_count']\n",
    "missing_df = missing_df.loc[missing_df['missing_count']>0]\n",
    "missing_df = missing_df.sort_values(by='missing_count')\n",
    "\n",
    "missing = missing_df['column_name']\n",
    "ind = np.arange(missing_df.shape[0])\n",
    "width = 0.2\n",
    "fig, ax = plt.subplots(figsize=(5,8))\n",
    "rects = ax.barh(ind, missing_df.missing_count.values, color='blue')\n",
    "ax.set_yticks(ind)\n",
    "ax.set_yticklabels(missing_df.column_name.values, rotation='horizontal')\n",
    "ax.set_xlabel(\"Count of missing values\")\n",
    "ax.set_title(\"Number of missing values in each column\")\n",
    "plt.show()"
   ]
  },
  {
   "cell_type": "markdown",
   "metadata": {},
   "source": [
    "### Visualizing data which are not numbers "
   ]
  },
  {
   "cell_type": "code",
   "execution_count": 4,
   "metadata": {},
   "outputs": [
    {
     "data": {
      "text/html": [
       "<div>\n",
       "<style scoped>\n",
       "    .dataframe tbody tr th:only-of-type {\n",
       "        vertical-align: middle;\n",
       "    }\n",
       "\n",
       "    .dataframe tbody tr th {\n",
       "        vertical-align: top;\n",
       "    }\n",
       "\n",
       "    .dataframe thead th {\n",
       "        text-align: right;\n",
       "    }\n",
       "</style>\n",
       "<table border=\"1\" class=\"dataframe\">\n",
       "  <thead>\n",
       "    <tr style=\"text-align: right;\">\n",
       "      <th></th>\n",
       "      <th>DOJ Extended</th>\n",
       "      <th>Offered band</th>\n",
       "      <th>Joining Bonus</th>\n",
       "      <th>Candidate relocate actual</th>\n",
       "      <th>Gender</th>\n",
       "      <th>Candidate Source</th>\n",
       "      <th>LOB</th>\n",
       "      <th>Location</th>\n",
       "      <th>Status</th>\n",
       "    </tr>\n",
       "  </thead>\n",
       "  <tbody>\n",
       "    <tr>\n",
       "      <th>0</th>\n",
       "      <td>Yes</td>\n",
       "      <td>E2</td>\n",
       "      <td>No</td>\n",
       "      <td>No</td>\n",
       "      <td>Female</td>\n",
       "      <td>Agency</td>\n",
       "      <td>ERS</td>\n",
       "      <td>Noida</td>\n",
       "      <td>Joined</td>\n",
       "    </tr>\n",
       "    <tr>\n",
       "      <th>1</th>\n",
       "      <td>No</td>\n",
       "      <td>E2</td>\n",
       "      <td>No</td>\n",
       "      <td>No</td>\n",
       "      <td>Male</td>\n",
       "      <td>Employee Referral</td>\n",
       "      <td>INFRA</td>\n",
       "      <td>Chennai</td>\n",
       "      <td>Joined</td>\n",
       "    </tr>\n",
       "    <tr>\n",
       "      <th>2</th>\n",
       "      <td>No</td>\n",
       "      <td>E2</td>\n",
       "      <td>No</td>\n",
       "      <td>No</td>\n",
       "      <td>Male</td>\n",
       "      <td>Agency</td>\n",
       "      <td>INFRA</td>\n",
       "      <td>Noida</td>\n",
       "      <td>Joined</td>\n",
       "    </tr>\n",
       "    <tr>\n",
       "      <th>3</th>\n",
       "      <td>No</td>\n",
       "      <td>E2</td>\n",
       "      <td>No</td>\n",
       "      <td>No</td>\n",
       "      <td>Male</td>\n",
       "      <td>Employee Referral</td>\n",
       "      <td>INFRA</td>\n",
       "      <td>Noida</td>\n",
       "      <td>Joined</td>\n",
       "    </tr>\n",
       "    <tr>\n",
       "      <th>4</th>\n",
       "      <td>Yes</td>\n",
       "      <td>E2</td>\n",
       "      <td>No</td>\n",
       "      <td>Yes</td>\n",
       "      <td>Male</td>\n",
       "      <td>Employee Referral</td>\n",
       "      <td>INFRA</td>\n",
       "      <td>Noida</td>\n",
       "      <td>Joined</td>\n",
       "    </tr>\n",
       "  </tbody>\n",
       "</table>\n",
       "</div>"
      ],
      "text/plain": [
       "  DOJ Extended Offered band Joining Bonus Candidate relocate actual  Gender  \\\n",
       "0          Yes           E2            No                        No  Female   \n",
       "1           No           E2            No                        No    Male   \n",
       "2           No           E2            No                        No    Male   \n",
       "3           No           E2            No                        No    Male   \n",
       "4          Yes           E2            No                       Yes    Male   \n",
       "\n",
       "    Candidate Source    LOB Location  Status  \n",
       "0             Agency    ERS    Noida  Joined  \n",
       "1  Employee Referral  INFRA  Chennai  Joined  \n",
       "2             Agency  INFRA    Noida  Joined  \n",
       "3  Employee Referral  INFRA    Noida  Joined  \n",
       "4  Employee Referral  INFRA    Noida  Joined  "
      ]
     },
     "execution_count": 4,
     "metadata": {},
     "output_type": "execute_result"
    }
   ],
   "source": [
    "data.select_dtypes(exclude=['int64','float64']).head()"
   ]
  },
  {
   "cell_type": "markdown",
   "metadata": {},
   "source": [
    "### Check type of variable contents"
   ]
  },
  {
   "cell_type": "code",
   "execution_count": 5,
   "metadata": {},
   "outputs": [
    {
     "name": "stdout",
     "output_type": "stream",
     "text": [
      "Variable name:  DOJ Extended\n",
      "Type of values:  ['Yes', 'No']\n",
      "Variable name:  Offered band\n",
      "Type of values:  ['E2', 'E1', 'E3', 'E4', 'E0', 'E6', 'E5']\n",
      "Variable name:  Joining Bonus\n",
      "Type of values:  ['No', 'Yes']\n",
      "Variable name:  Candidate relocate actual\n",
      "Type of values:  ['No', 'Yes']\n",
      "Variable name:  Gender\n",
      "Type of values:  ['Female', 'Male']\n",
      "Variable name:  Candidate Source\n",
      "Type of values:  ['Agency', 'Employee Referral', 'Direct']\n",
      "Variable name:  LOB\n",
      "Type of values:  ['ERS', 'INFRA', 'Healthcare', 'BFSI', 'CSMP', 'ETS', 'AXON', 'EAS', 'SALES', 'CORP', 'BSERV', 'MMS']\n",
      "Variable name:  Location\n",
      "Type of values:  ['Noida', 'Chennai', 'Gurgaon', 'Bangalore', 'Kolkata', 'Mumbai', 'Hyderabad', 'Cochin', 'Pune', 'Others', 'Coimbatore', 'Ahmedabad']\n",
      "Variable name:  Status\n",
      "Type of values:  ['Joined', 'Not Joined']\n"
     ]
    }
   ],
   "source": [
    "all_objects = data.select_dtypes(exclude=['int64','float64']).columns.unique()\n",
    "for i in all_objects:\n",
    "    print(\"Variable name: \",i)\n",
    "    print(\"Type of values: \", data[i].unique().tolist())"
   ]
  },
  {
   "cell_type": "markdown",
   "metadata": {},
   "source": [
    "### Convert all above variables to numerical format"
   ]
  },
  {
   "cell_type": "code",
   "execution_count": 6,
   "metadata": {},
   "outputs": [],
   "source": [
    "lb_make = LabelEncoder()\n",
    "\n",
    "for i in all_objects:\n",
    "    new_name = \"numerical\" + i\n",
    "    data[new_name] = lb_make.fit_transform(data[i])\n",
    "    del data[i]"
   ]
  },
  {
   "cell_type": "markdown",
   "metadata": {},
   "source": [
    "### Seeing how the above variables look now"
   ]
  },
  {
   "cell_type": "code",
   "execution_count": 7,
   "metadata": {},
   "outputs": [
    {
     "name": "stdout",
     "output_type": "stream",
     "text": [
      "Variable name:  numericalDOJ Extended\n",
      "Type of values:  [1, 0]\n",
      "Variable name:  numericalOffered band\n",
      "Type of values:  [2, 1, 3, 4, 0, 6, 5]\n",
      "Variable name:  numericalJoining Bonus\n",
      "Type of values:  [0, 1]\n",
      "Variable name:  numericalCandidate relocate actual\n",
      "Type of values:  [0, 1]\n",
      "Variable name:  numericalGender\n",
      "Type of values:  [0, 1]\n",
      "Variable name:  numericalCandidate Source\n",
      "Type of values:  [0, 2, 1]\n",
      "Variable name:  numericalLOB\n",
      "Type of values:  [6, 9, 8, 1, 4, 7, 0, 5, 11, 3, 2, 10]\n",
      "Variable name:  numericalLocation\n",
      "Type of values:  [9, 2, 5, 1, 7, 8, 6, 3, 11, 10, 4, 0]\n",
      "Variable name:  numericalStatus\n",
      "Type of values:  [0, 1]\n"
     ]
    }
   ],
   "source": [
    "for i in all_objects:\n",
    "    print(\"Variable name: \",\"numerical\"+i)\n",
    "    print(\"Type of values: \", data[\"numerical\"+i].unique().tolist())"
   ]
  },
  {
   "cell_type": "code",
   "execution_count": 8,
   "metadata": {},
   "outputs": [
    {
     "ename": "NameError",
     "evalue": "name 'missing' is not defined",
     "output_type": "error",
     "traceback": [
      "\u001b[1;31m---------------------------------------------------------------------------\u001b[0m",
      "\u001b[1;31mNameError\u001b[0m                                 Traceback (most recent call last)",
      "\u001b[1;32m<ipython-input-8-bcec4a3bf7a3>\u001b[0m in \u001b[0;36m<module>\u001b[1;34m()\u001b[0m\n\u001b[1;32m----> 1\u001b[1;33m \u001b[1;32mfor\u001b[0m \u001b[0mi\u001b[0m \u001b[1;32min\u001b[0m \u001b[0mmissing\u001b[0m\u001b[1;33m:\u001b[0m\u001b[1;33m\u001b[0m\u001b[0m\n\u001b[0m\u001b[0;32m      2\u001b[0m     \u001b[0mprint\u001b[0m\u001b[1;33m(\u001b[0m\u001b[0mi\u001b[0m\u001b[1;33m)\u001b[0m\u001b[1;33m\u001b[0m\u001b[0m\n",
      "\u001b[1;31mNameError\u001b[0m: name 'missing' is not defined"
     ]
    }
   ],
   "source": [
    "for i in missing:\n",
    "    print(i)"
   ]
  },
  {
   "cell_type": "markdown",
   "metadata": {},
   "source": [
    "### Interchange NaN value using \n",
    "#### a) Mean\n",
    "#### b) Median\n",
    "#### c) Prediction"
   ]
  },
  {
   "cell_type": "code",
   "execution_count": 12,
   "metadata": {},
   "outputs": [
    {
     "data": {
      "text/plain": [
       "<matplotlib.legend.Legend at 0x24535a59dd8>"
      ]
     },
     "execution_count": 12,
     "metadata": {},
     "output_type": "execute_result"
    },
    {
     "data": {
      "image/png": "[encoded data removed]",
      "text/plain": [
       "<Figure size 432x288 with 1 Axes>"
      ]
     },
     "metadata": {
      "needs_background": "light"
     },
     "output_type": "display_data"
    }
   ],
   "source": [
    "plt.plot(data[missing.unique()[0]], label = missing.unique()[0])\n",
    "plt.legend()"
   ]
  },
  {
   "cell_type": "code",
   "execution_count": 13,
   "metadata": {},
   "outputs": [
    {
     "data": {
      "text/plain": [
       "<matplotlib.legend.Legend at 0x24535a7a940>"
      ]
     },
     "execution_count": 13,
     "metadata": {},
     "output_type": "execute_result"
    },
    {
     "data": {
      "image/png": "[encoded data removed]",
      "text/plain": [
       "<Figure size 432x288 with 1 Axes>"
      ]
     },
     "metadata": {
      "needs_background": "light"
     },
     "output_type": "display_data"
    }
   ],
   "source": [
    "plt.plot(data[missing.unique()[1]], label = missing.unique()[1])\n",
    "plt.legend()"
   ]
  },
  {
   "cell_type": "code",
   "execution_count": 14,
   "metadata": {},
   "outputs": [
    {
     "data": {
      "text/plain": [
       "<matplotlib.legend.Legend at 0x24535fb4470>"
      ]
     },
     "execution_count": 14,
     "metadata": {},
     "output_type": "execute_result"
    },
    {
     "data": {
      "image/png": "[encoded data removed]",
      "text/plain": [
       "<Figure size 432x288 with 1 Axes>"
      ]
     },
     "metadata": {
      "needs_background": "light"
     },
     "output_type": "display_data"
    }
   ],
   "source": [
    "plt.plot(data[missing.unique()[2]], label = missing.unique()[2])\n",
    "plt.legend()"
   ]
  },
  {
   "cell_type": "code",
   "execution_count": 15,
   "metadata": {},
   "outputs": [
    {
     "data": {
      "text/plain": [
       "<matplotlib.legend.Legend at 0x245360078d0>"
      ]
     },
     "execution_count": 15,
     "metadata": {},
     "output_type": "execute_result"
    },
    {
     "data": {
      "image/png": "[encoded data removed]",
      "text/plain": [
       "<Figure size 432x288 with 1 Axes>"
      ]
     },
     "metadata": {
      "needs_background": "light"
     },
     "output_type": "display_data"
    }
   ],
   "source": [
    "plt.plot(data[missing.unique()[3]], label = missing.unique()[3])\n",
    "plt.legend()"
   ]
  },
  {
   "cell_type": "markdown",
   "metadata": {},
   "source": [
    "### From the above plots we can see that the first two variables were centered near the mean and the third variable is centered near the median, so we shall use those values to substitute NaN values"
   ]
  },
  {
   "cell_type": "code",
   "execution_count": 16,
   "metadata": {},
   "outputs": [],
   "source": [
    "for i in range(0,2):\n",
    "    number_array = data[data[missing.unique()[i]]!=np.nan][missing.unique()[i]]\n",
    "    data[missing.unique()[i]] = data[missing.unique()[i]].replace(np.nan,number_array.mean())\n",
    "\n",
    "number_array = data[data[missing.unique()[2]]!=np.nan][missing.unique()[2]]\n",
    "data[missing.unique()[2]] = data[missing.unique()[2]].replace(np.nan,number_array.median())\n",
    "\n",
    "number_array = data[data[missing.unique()[3]]!=np.nan][missing.unique()[3]]\n",
    "data[missing.unique()[3]] = data[missing.unique()[3]].replace(np.nan,number_array.median())"
   ]
  },
  {
   "cell_type": "markdown",
   "metadata": {},
   "source": [
    "### Now there are no more missing values"
   ]
  },
  {
   "cell_type": "code",
   "execution_count": 17,
   "metadata": {},
   "outputs": [],
   "source": [
    "# get the target function\n",
    "target = data[\"numericalStatus\"]\n",
    "del data[\"numericalStatus\"]"
   ]
  },
  {
   "cell_type": "code",
   "execution_count": 18,
   "metadata": {},
   "outputs": [],
   "source": [
    "#divide data into testing and training\n",
    "X_train, X_test, y_train, y_test = train_test_split(data, target, test_size=0.2, random_state=42)"
   ]
  },
  {
   "cell_type": "code",
   "execution_count": 19,
   "metadata": {},
   "outputs": [
    {
     "name": "stdout",
     "output_type": "stream",
     "text": [
      "Model :  RandomForestClassifier(bootstrap=True, class_weight=None, criterion='gini',\n",
      "            max_depth=None, max_features='auto', max_leaf_nodes=None,\n",
      "            min_impurity_decrease=0.0, min_impurity_split=None,\n",
      "            min_samples_leaf=1, min_samples_split=2,\n",
      "            min_weight_fraction_leaf=0.0, n_estimators=100, n_jobs=1,\n",
      "            oob_score=False, random_state=None, verbose=0,\n",
      "            warm_start=False)\n",
      "Score :  0.8188082691528172\n",
      "********************************************************************************\n",
      "Model :  MLPClassifier(activation='relu', alpha=0.0001, batch_size='auto', beta_1=0.9,\n",
      "       beta_2=0.999, early_stopping=False, epsilon=1e-08,\n",
      "       hidden_layer_sizes=(100,), learning_rate='constant',\n",
      "       learning_rate_init=0.001, max_iter=200, momentum=0.9,\n",
      "       nesterovs_momentum=True, power_t=0.5, random_state=None,\n",
      "       shuffle=True, solver='adam', tol=0.0001, validation_fraction=0.1,\n",
      "       verbose=False, warm_start=False)\n",
      "Score :  0.7053100932306445\n",
      "********************************************************************************\n",
      "Model :  ExtraTreesClassifier(bootstrap=False, class_weight=None, criterion='gini',\n",
      "           max_depth=None, max_features='auto', max_leaf_nodes=None,\n",
      "           min_impurity_decrease=0.0, min_impurity_split=None,\n",
      "           min_samples_leaf=1, min_samples_split=2,\n",
      "           min_weight_fraction_leaf=0.0, n_estimators=10, n_jobs=1,\n",
      "           oob_score=False, random_state=None, verbose=0, warm_start=False)\n",
      "Score :  0.7859748682610458\n",
      "********************************************************************************\n",
      "Model :  GradientBoostingClassifier(criterion='friedman_mse', init=None,\n",
      "              learning_rate=0.1, loss='deviance', max_depth=3,\n",
      "              max_features=None, max_leaf_nodes=None,\n",
      "              min_impurity_decrease=0.0, min_impurity_split=None,\n",
      "              min_samples_leaf=1, min_samples_split=2,\n",
      "              min_weight_fraction_leaf=0.0, n_estimators=100,\n",
      "              presort='auto', random_state=None, subsample=1.0, verbose=0,\n",
      "              warm_start=False)\n",
      "Score :  0.8248885285772193\n",
      "********************************************************************************\n",
      "Model :  DecisionTreeClassifier(class_weight=None, criterion='gini', max_depth=None,\n",
      "            max_features=None, max_leaf_nodes=None,\n",
      "            min_impurity_decrease=0.0, min_impurity_split=None,\n",
      "            min_samples_leaf=1, min_samples_split=2,\n",
      "            min_weight_fraction_leaf=0.0, presort=False, random_state=None,\n",
      "            splitter='best')\n",
      "Score :  0.760437778678557\n",
      "********************************************************************************\n",
      "Model :  AdaBoostClassifier(algorithm='SAMME.R', base_estimator=None,\n",
      "          learning_rate=1.0, n_estimators=50, random_state=None)\n",
      "Score :  0.8204296716659911\n",
      "********************************************************************************\n",
      "Model :  GaussianNB(priors=None)\n",
      "Score :  0.7077421970004053\n",
      "********************************************************************************\n"
     ]
    }
   ],
   "source": [
    "models = [\n",
    "    RandomForestClassifier(n_estimators=100),\n",
    "    MLPClassifier(),\n",
    "    ExtraTreesClassifier(),\n",
    "    GradientBoostingClassifier(),\n",
    "    DecisionTreeClassifier(),\n",
    "    AdaBoostClassifier(),\n",
    "    GaussianNB()\n",
    "    \n",
    "]\n",
    "\n",
    "for model in models:\n",
    "    model.fit(X_train, y_train)\n",
    "    score = model.score(X_test, y_test)\n",
    "    print(\"Model : \", model)\n",
    "    print(\"Score : \",score)\n",
    "    print(\"**\"*40)"
   ]
  },
  {
   "cell_type": "markdown",
   "metadata": {},
   "source": [
    "### Choosing the best model "
   ]
  },
  {
   "cell_type": "code",
   "execution_count": 20,
   "metadata": {},
   "outputs": [
    {
     "name": "stdout",
     "output_type": "stream",
     "text": [
      "Model :  GradientBoostingClassifier(criterion='friedman_mse', init=None,\n",
      "              learning_rate=0.1, loss='deviance', max_depth=3,\n",
      "              max_features=None, max_leaf_nodes=None,\n",
      "              min_impurity_decrease=0.0, min_impurity_split=None,\n",
      "              min_samples_leaf=1, min_samples_split=2,\n",
      "              min_weight_fraction_leaf=0.0, n_estimators=100,\n",
      "              presort='auto', random_state=None, subsample=1.0, verbose=0,\n",
      "              warm_start=False)\n",
      "Score :  0.8248885285772193\n"
     ]
    }
   ],
   "source": [
    "model = GradientBoostingClassifier()\n",
    "model.fit(X_train, y_train)\n",
    "score = model.score(X_test, y_test)\n",
    "print(\"Model : \", model)\n",
    "print(\"Score : \",score)"
   ]
  },
  {
   "cell_type": "code",
   "execution_count": 21,
   "metadata": {},
   "outputs": [
    {
     "name": "stderr",
     "output_type": "stream",
     "text": [
      "C:\\Users\\sharan\\AppData\\Local\\Continuum\\anaconda3\\lib\\site-packages\\sklearn\\cross_validation.py:41: DeprecationWarning: This module was deprecated in version 0.18 in favor of the model_selection module into which all the refactored classes and functions are moved. Also note that the interface of the new CV iterators are different from that of this module. This module will be removed in 0.20.\n",
      "  \"This module will be removed in 0.20.\", DeprecationWarning)\n"
     ]
    }
   ],
   "source": [
    "# the models we will run\n",
    "from sklearn.tree import DecisionTreeRegressor\n",
    "from sklearn.ensemble import GradientBoostingRegressor\n",
    "from sklearn.ensemble import RandomForestRegressor\n",
    "from sklearn.ensemble import AdaBoostRegressor\n",
    "from sklearn.ensemble import ExtraTreesRegressor\n",
    "\n",
    "# some metrics to help us out\n",
    "from sklearn.cross_validation import cross_val_score\n",
    "from sklearn.cross_validation import train_test_split\n",
    "from sklearn.metrics import mean_squared_error as mse"
   ]
  },
  {
   "cell_type": "code",
   "execution_count": 22,
   "metadata": {},
   "outputs": [],
   "source": [
    "dr = DecisionTreeRegressor()\n",
    "dr.fit(X_train,y_train)\n",
    "drimp = dr.feature_importances_"
   ]
  },
  {
   "cell_type": "code",
   "execution_count": 23,
   "metadata": {},
   "outputs": [],
   "source": [
    "rfr = RandomForestRegressor(n_estimators=100)\n",
    "rfr.fit(X_train,y_train)\n",
    "rfrimp = rfr.feature_importances_"
   ]
  },
  {
   "cell_type": "code",
   "execution_count": 24,
   "metadata": {},
   "outputs": [],
   "source": [
    "gbr =  GradientBoostingRegressor(n_estimators=100)\n",
    "gbr.fit(X_train,y_train)\n",
    "gbrimp = gbr.feature_importances_"
   ]
  },
  {
   "cell_type": "code",
   "execution_count": 25,
   "metadata": {},
   "outputs": [],
   "source": [
    "abr =  AdaBoostRegressor(n_estimators=100)\n",
    "abr.fit(X_train,y_train)\n",
    "abrimp = abr.feature_importances_"
   ]
  },
  {
   "cell_type": "code",
   "execution_count": 26,
   "metadata": {},
   "outputs": [],
   "source": [
    "etr =  ExtraTreesRegressor(n_estimators=100)\n",
    "etr.fit(X_train,y_train)\n",
    "etrimp = etr.feature_importances_"
   ]
  },
  {
   "cell_type": "code",
   "execution_count": 27,
   "metadata": {},
   "outputs": [],
   "source": [
    "d = {'Decision Tree':drimp, 'Random Forest':rfrimp, 'Gradient Boost':gbrimp,'Ada boost':abrimp, 'Extra Tree':etrimp}"
   ]
  },
  {
   "cell_type": "code",
   "execution_count": 28,
   "metadata": {},
   "outputs": [
    {
     "data": {
      "text/html": [
       "<div>\n",
       "<style scoped>\n",
       "    .dataframe tbody tr th:only-of-type {\n",
       "        vertical-align: middle;\n",
       "    }\n",
       "\n",
       "    .dataframe tbody tr th {\n",
       "        vertical-align: top;\n",
       "    }\n",
       "\n",
       "    .dataframe thead th {\n",
       "        text-align: right;\n",
       "    }\n",
       "</style>\n",
       "<table border=\"1\" class=\"dataframe\">\n",
       "  <thead>\n",
       "    <tr style=\"text-align: right;\">\n",
       "      <th></th>\n",
       "      <th>Decision Tree</th>\n",
       "      <th>Random Forest</th>\n",
       "      <th>Gradient Boost</th>\n",
       "      <th>Ada boost</th>\n",
       "      <th>Extra Tree</th>\n",
       "    </tr>\n",
       "  </thead>\n",
       "  <tbody>\n",
       "    <tr>\n",
       "      <th>0</th>\n",
       "      <td>0.135321</td>\n",
       "      <td>0.129630</td>\n",
       "      <td>0.084045</td>\n",
       "      <td>0.000000</td>\n",
       "      <td>0.090330</td>\n",
       "    </tr>\n",
       "    <tr>\n",
       "      <th>1</th>\n",
       "      <td>0.189435</td>\n",
       "      <td>0.205090</td>\n",
       "      <td>0.269187</td>\n",
       "      <td>0.342530</td>\n",
       "      <td>0.217167</td>\n",
       "    </tr>\n",
       "    <tr>\n",
       "      <th>2</th>\n",
       "      <td>0.065405</td>\n",
       "      <td>0.073403</td>\n",
       "      <td>0.064892</td>\n",
       "      <td>0.309348</td>\n",
       "      <td>0.081706</td>\n",
       "    </tr>\n",
       "    <tr>\n",
       "      <th>3</th>\n",
       "      <td>0.074377</td>\n",
       "      <td>0.081453</td>\n",
       "      <td>0.104645</td>\n",
       "      <td>0.000000</td>\n",
       "      <td>0.063668</td>\n",
       "    </tr>\n",
       "    <tr>\n",
       "      <th>4</th>\n",
       "      <td>0.083571</td>\n",
       "      <td>0.082241</td>\n",
       "      <td>0.028408</td>\n",
       "      <td>0.000000</td>\n",
       "      <td>0.063709</td>\n",
       "    </tr>\n",
       "  </tbody>\n",
       "</table>\n",
       "</div>"
      ],
      "text/plain": [
       "   Decision Tree  Random Forest  Gradient Boost  Ada boost  Extra Tree\n",
       "0       0.135321       0.129630        0.084045   0.000000    0.090330\n",
       "1       0.189435       0.205090        0.269187   0.342530    0.217167\n",
       "2       0.065405       0.073403        0.064892   0.309348    0.081706\n",
       "3       0.074377       0.081453        0.104645   0.000000    0.063668\n",
       "4       0.083571       0.082241        0.028408   0.000000    0.063709"
      ]
     },
     "execution_count": 28,
     "metadata": {},
     "output_type": "execute_result"
    }
   ],
   "source": [
    "features = pd.DataFrame(data = d)\n",
    "# lets check out features\n",
    "features.head()"
   ]
  },
  {
   "cell_type": "code",
   "execution_count": 29,
   "metadata": {},
   "outputs": [],
   "source": [
    "features['mean'] = features.mean(axis= 1) \n",
    "# we forgot to add the names of the features\n",
    "features['names'] = data.columns.values"
   ]
  },
  {
   "cell_type": "code",
   "execution_count": 31,
   "metadata": {},
   "outputs": [
    {
     "data": {
      "text/html": [
       "<div>\n",
       "<style scoped>\n",
       "    .dataframe tbody tr th:only-of-type {\n",
       "        vertical-align: middle;\n",
       "    }\n",
       "\n",
       "    .dataframe tbody tr th {\n",
       "        vertical-align: top;\n",
       "    }\n",
       "\n",
       "    .dataframe thead th {\n",
       "        text-align: right;\n",
       "    }\n",
       "</style>\n",
       "<table border=\"1\" class=\"dataframe\">\n",
       "  <thead>\n",
       "    <tr style=\"text-align: right;\">\n",
       "      <th></th>\n",
       "      <th>Decision Tree</th>\n",
       "      <th>Random Forest</th>\n",
       "      <th>Gradient Boost</th>\n",
       "      <th>Ada boost</th>\n",
       "      <th>Extra Tree</th>\n",
       "      <th>mean</th>\n",
       "      <th>names</th>\n",
       "    </tr>\n",
       "  </thead>\n",
       "  <tbody>\n",
       "    <tr>\n",
       "      <th>0</th>\n",
       "      <td>0.135321</td>\n",
       "      <td>0.129630</td>\n",
       "      <td>0.084045</td>\n",
       "      <td>0.000000</td>\n",
       "      <td>0.090330</td>\n",
       "      <td>0.087865</td>\n",
       "      <td>Candidate Ref</td>\n",
       "    </tr>\n",
       "    <tr>\n",
       "      <th>1</th>\n",
       "      <td>0.189435</td>\n",
       "      <td>0.205090</td>\n",
       "      <td>0.269187</td>\n",
       "      <td>0.342530</td>\n",
       "      <td>0.217167</td>\n",
       "      <td>0.244682</td>\n",
       "      <td>Duration to accept offer</td>\n",
       "    </tr>\n",
       "    <tr>\n",
       "      <th>2</th>\n",
       "      <td>0.065405</td>\n",
       "      <td>0.073403</td>\n",
       "      <td>0.064892</td>\n",
       "      <td>0.309348</td>\n",
       "      <td>0.081706</td>\n",
       "      <td>0.118951</td>\n",
       "      <td>Notice period</td>\n",
       "    </tr>\n",
       "    <tr>\n",
       "      <th>3</th>\n",
       "      <td>0.074377</td>\n",
       "      <td>0.081453</td>\n",
       "      <td>0.104645</td>\n",
       "      <td>0.000000</td>\n",
       "      <td>0.063668</td>\n",
       "      <td>0.064829</td>\n",
       "      <td>Pecent hike expected in CTC</td>\n",
       "    </tr>\n",
       "    <tr>\n",
       "      <th>4</th>\n",
       "      <td>0.083571</td>\n",
       "      <td>0.082241</td>\n",
       "      <td>0.028408</td>\n",
       "      <td>0.000000</td>\n",
       "      <td>0.063709</td>\n",
       "      <td>0.051586</td>\n",
       "      <td>Percent hike offered in CTC</td>\n",
       "    </tr>\n",
       "    <tr>\n",
       "      <th>5</th>\n",
       "      <td>0.063818</td>\n",
       "      <td>0.057007</td>\n",
       "      <td>0.027023</td>\n",
       "      <td>0.000000</td>\n",
       "      <td>0.060769</td>\n",
       "      <td>0.041723</td>\n",
       "      <td>Percent difference CTC</td>\n",
       "    </tr>\n",
       "    <tr>\n",
       "      <th>6</th>\n",
       "      <td>0.045260</td>\n",
       "      <td>0.044205</td>\n",
       "      <td>0.043545</td>\n",
       "      <td>0.000000</td>\n",
       "      <td>0.061914</td>\n",
       "      <td>0.038985</td>\n",
       "      <td>Rex in Yrs</td>\n",
       "    </tr>\n",
       "    <tr>\n",
       "      <th>7</th>\n",
       "      <td>0.038591</td>\n",
       "      <td>0.044096</td>\n",
       "      <td>0.039174</td>\n",
       "      <td>0.000000</td>\n",
       "      <td>0.059942</td>\n",
       "      <td>0.036361</td>\n",
       "      <td>Age</td>\n",
       "    </tr>\n",
       "    <tr>\n",
       "      <th>8</th>\n",
       "      <td>0.038119</td>\n",
       "      <td>0.031899</td>\n",
       "      <td>0.018135</td>\n",
       "      <td>0.000000</td>\n",
       "      <td>0.026382</td>\n",
       "      <td>0.022907</td>\n",
       "      <td>numericalDOJ Extended</td>\n",
       "    </tr>\n",
       "    <tr>\n",
       "      <th>9</th>\n",
       "      <td>0.080515</td>\n",
       "      <td>0.057756</td>\n",
       "      <td>0.049730</td>\n",
       "      <td>0.000000</td>\n",
       "      <td>0.032619</td>\n",
       "      <td>0.044124</td>\n",
       "      <td>numericalOffered band</td>\n",
       "    </tr>\n",
       "    <tr>\n",
       "      <th>10</th>\n",
       "      <td>0.004919</td>\n",
       "      <td>0.005647</td>\n",
       "      <td>0.000725</td>\n",
       "      <td>0.000000</td>\n",
       "      <td>0.010496</td>\n",
       "      <td>0.004357</td>\n",
       "      <td>numericalJoining Bonus</td>\n",
       "    </tr>\n",
       "    <tr>\n",
       "      <th>11</th>\n",
       "      <td>0.064097</td>\n",
       "      <td>0.064268</td>\n",
       "      <td>0.077025</td>\n",
       "      <td>0.348122</td>\n",
       "      <td>0.064097</td>\n",
       "      <td>0.123522</td>\n",
       "      <td>numericalCandidate relocate actual</td>\n",
       "    </tr>\n",
       "    <tr>\n",
       "      <th>12</th>\n",
       "      <td>0.010417</td>\n",
       "      <td>0.010616</td>\n",
       "      <td>0.013686</td>\n",
       "      <td>0.000000</td>\n",
       "      <td>0.022257</td>\n",
       "      <td>0.011395</td>\n",
       "      <td>numericalGender</td>\n",
       "    </tr>\n",
       "    <tr>\n",
       "      <th>13</th>\n",
       "      <td>0.021531</td>\n",
       "      <td>0.021123</td>\n",
       "      <td>0.022722</td>\n",
       "      <td>0.000000</td>\n",
       "      <td>0.031826</td>\n",
       "      <td>0.019440</td>\n",
       "      <td>numericalCandidate Source</td>\n",
       "    </tr>\n",
       "    <tr>\n",
       "      <th>14</th>\n",
       "      <td>0.057462</td>\n",
       "      <td>0.059783</td>\n",
       "      <td>0.141006</td>\n",
       "      <td>0.000000</td>\n",
       "      <td>0.064479</td>\n",
       "      <td>0.064546</td>\n",
       "      <td>numericalLOB</td>\n",
       "    </tr>\n",
       "    <tr>\n",
       "      <th>15</th>\n",
       "      <td>0.027161</td>\n",
       "      <td>0.031782</td>\n",
       "      <td>0.016052</td>\n",
       "      <td>0.000000</td>\n",
       "      <td>0.048638</td>\n",
       "      <td>0.024727</td>\n",
       "      <td>numericalLocation</td>\n",
       "    </tr>\n",
       "  </tbody>\n",
       "</table>\n",
       "</div>"
      ],
      "text/plain": [
       "    Decision Tree  Random Forest  Gradient Boost  Ada boost  Extra Tree  \\\n",
       "0        0.135321       0.129630        0.084045   0.000000    0.090330   \n",
       "1        0.189435       0.205090        0.269187   0.342530    0.217167   \n",
       "2        0.065405       0.073403        0.064892   0.309348    0.081706   \n",
       "3        0.074377       0.081453        0.104645   0.000000    0.063668   \n",
       "4        0.083571       0.082241        0.028408   0.000000    0.063709   \n",
       "5        0.063818       0.057007        0.027023   0.000000    0.060769   \n",
       "6        0.045260       0.044205        0.043545   0.000000    0.061914   \n",
       "7        0.038591       0.044096        0.039174   0.000000    0.059942   \n",
       "8        0.038119       0.031899        0.018135   0.000000    0.026382   \n",
       "9        0.080515       0.057756        0.049730   0.000000    0.032619   \n",
       "10       0.004919       0.005647        0.000725   0.000000    0.010496   \n",
       "11       0.064097       0.064268        0.077025   0.348122    0.064097   \n",
       "12       0.010417       0.010616        0.013686   0.000000    0.022257   \n",
       "13       0.021531       0.021123        0.022722   0.000000    0.031826   \n",
       "14       0.057462       0.059783        0.141006   0.000000    0.064479   \n",
       "15       0.027161       0.031782        0.016052   0.000000    0.048638   \n",
       "\n",
       "        mean                               names  \n",
       "0   0.087865                       Candidate Ref  \n",
       "1   0.244682            Duration to accept offer  \n",
       "2   0.118951                       Notice period  \n",
       "3   0.064829         Pecent hike expected in CTC  \n",
       "4   0.051586         Percent hike offered in CTC  \n",
       "5   0.041723              Percent difference CTC  \n",
       "6   0.038985                          Rex in Yrs  \n",
       "7   0.036361                                 Age  \n",
       "8   0.022907               numericalDOJ Extended  \n",
       "9   0.044124               numericalOffered band  \n",
       "10  0.004357              numericalJoining Bonus  \n",
       "11  0.123522  numericalCandidate relocate actual  \n",
       "12  0.011395                     numericalGender  \n",
       "13  0.019440           numericalCandidate Source  \n",
       "14  0.064546                        numericalLOB  \n",
       "15  0.024727                   numericalLocation  "
      ]
     },
     "execution_count": 31,
     "metadata": {},
     "output_type": "execute_result"
    }
   ],
   "source": [
    "features"
   ]
  },
  {
   "cell_type": "markdown",
   "metadata": {},
   "source": [
    "### Choosing the best 8 features"
   ]
  },
  {
   "cell_type": "code",
   "execution_count": 33,
   "metadata": {},
   "outputs": [
    {
     "data": {
      "text/html": [
       "<div>\n",
       "<style scoped>\n",
       "    .dataframe tbody tr th:only-of-type {\n",
       "        vertical-align: middle;\n",
       "    }\n",
       "\n",
       "    .dataframe tbody tr th {\n",
       "        vertical-align: top;\n",
       "    }\n",
       "\n",
       "    .dataframe thead th {\n",
       "        text-align: right;\n",
       "    }\n",
       "</style>\n",
       "<table border=\"1\" class=\"dataframe\">\n",
       "  <thead>\n",
       "    <tr style=\"text-align: right;\">\n",
       "      <th></th>\n",
       "      <th>Decision Tree</th>\n",
       "      <th>Random Forest</th>\n",
       "      <th>Gradient Boost</th>\n",
       "      <th>Ada boost</th>\n",
       "      <th>Extra Tree</th>\n",
       "      <th>mean</th>\n",
       "      <th>names</th>\n",
       "    </tr>\n",
       "  </thead>\n",
       "  <tbody>\n",
       "    <tr>\n",
       "      <th>1</th>\n",
       "      <td>0.189435</td>\n",
       "      <td>0.205090</td>\n",
       "      <td>0.269187</td>\n",
       "      <td>0.342530</td>\n",
       "      <td>0.217167</td>\n",
       "      <td>0.244682</td>\n",
       "      <td>Duration to accept offer</td>\n",
       "    </tr>\n",
       "    <tr>\n",
       "      <th>11</th>\n",
       "      <td>0.064097</td>\n",
       "      <td>0.064268</td>\n",
       "      <td>0.077025</td>\n",
       "      <td>0.348122</td>\n",
       "      <td>0.064097</td>\n",
       "      <td>0.123522</td>\n",
       "      <td>numericalCandidate relocate actual</td>\n",
       "    </tr>\n",
       "    <tr>\n",
       "      <th>2</th>\n",
       "      <td>0.065405</td>\n",
       "      <td>0.073403</td>\n",
       "      <td>0.064892</td>\n",
       "      <td>0.309348</td>\n",
       "      <td>0.081706</td>\n",
       "      <td>0.118951</td>\n",
       "      <td>Notice period</td>\n",
       "    </tr>\n",
       "    <tr>\n",
       "      <th>0</th>\n",
       "      <td>0.135321</td>\n",
       "      <td>0.129630</td>\n",
       "      <td>0.084045</td>\n",
       "      <td>0.000000</td>\n",
       "      <td>0.090330</td>\n",
       "      <td>0.087865</td>\n",
       "      <td>Candidate Ref</td>\n",
       "    </tr>\n",
       "    <tr>\n",
       "      <th>3</th>\n",
       "      <td>0.074377</td>\n",
       "      <td>0.081453</td>\n",
       "      <td>0.104645</td>\n",
       "      <td>0.000000</td>\n",
       "      <td>0.063668</td>\n",
       "      <td>0.064829</td>\n",
       "      <td>Pecent hike expected in CTC</td>\n",
       "    </tr>\n",
       "    <tr>\n",
       "      <th>14</th>\n",
       "      <td>0.057462</td>\n",
       "      <td>0.059783</td>\n",
       "      <td>0.141006</td>\n",
       "      <td>0.000000</td>\n",
       "      <td>0.064479</td>\n",
       "      <td>0.064546</td>\n",
       "      <td>numericalLOB</td>\n",
       "    </tr>\n",
       "    <tr>\n",
       "      <th>4</th>\n",
       "      <td>0.083571</td>\n",
       "      <td>0.082241</td>\n",
       "      <td>0.028408</td>\n",
       "      <td>0.000000</td>\n",
       "      <td>0.063709</td>\n",
       "      <td>0.051586</td>\n",
       "      <td>Percent hike offered in CTC</td>\n",
       "    </tr>\n",
       "    <tr>\n",
       "      <th>9</th>\n",
       "      <td>0.080515</td>\n",
       "      <td>0.057756</td>\n",
       "      <td>0.049730</td>\n",
       "      <td>0.000000</td>\n",
       "      <td>0.032619</td>\n",
       "      <td>0.044124</td>\n",
       "      <td>numericalOffered band</td>\n",
       "    </tr>\n",
       "  </tbody>\n",
       "</table>\n",
       "</div>"
      ],
      "text/plain": [
       "    Decision Tree  Random Forest  Gradient Boost  Ada boost  Extra Tree  \\\n",
       "1        0.189435       0.205090        0.269187   0.342530    0.217167   \n",
       "11       0.064097       0.064268        0.077025   0.348122    0.064097   \n",
       "2        0.065405       0.073403        0.064892   0.309348    0.081706   \n",
       "0        0.135321       0.129630        0.084045   0.000000    0.090330   \n",
       "3        0.074377       0.081453        0.104645   0.000000    0.063668   \n",
       "14       0.057462       0.059783        0.141006   0.000000    0.064479   \n",
       "4        0.083571       0.082241        0.028408   0.000000    0.063709   \n",
       "9        0.080515       0.057756        0.049730   0.000000    0.032619   \n",
       "\n",
       "        mean                               names  \n",
       "1   0.244682            Duration to accept offer  \n",
       "11  0.123522  numericalCandidate relocate actual  \n",
       "2   0.118951                       Notice period  \n",
       "0   0.087865                       Candidate Ref  \n",
       "3   0.064829         Pecent hike expected in CTC  \n",
       "14  0.064546                        numericalLOB  \n",
       "4   0.051586         Percent hike offered in CTC  \n",
       "9   0.044124               numericalOffered band  "
      ]
     },
     "execution_count": 33,
     "metadata": {},
     "output_type": "execute_result"
    }
   ],
   "source": [
    "features.nlargest(8, 'mean')"
   ]
  },
  {
   "cell_type": "code",
   "execution_count": 37,
   "metadata": {},
   "outputs": [],
   "source": [
    "best_names = features.nlargest(8, 'mean').names"
   ]
  },
  {
   "cell_type": "code",
   "execution_count": 41,
   "metadata": {},
   "outputs": [],
   "source": [
    "#using only the best features\n",
    "new_data = data[best_names]\n",
    "\n",
    "#divide data into testing and training\n",
    "X_train, X_test, y_train, y_test = train_test_split(new_data, target, test_size=0.2, random_state=42)"
   ]
  },
  {
   "cell_type": "code",
   "execution_count": 42,
   "metadata": {},
   "outputs": [
    {
     "name": "stdout",
     "output_type": "stream",
     "text": [
      "Model :  RandomForestClassifier(bootstrap=True, class_weight=None, criterion='gini',\n",
      "            max_depth=None, max_features='auto', max_leaf_nodes=None,\n",
      "            min_impurity_decrease=0.0, min_impurity_split=None,\n",
      "            min_samples_leaf=1, min_samples_split=2,\n",
      "            min_weight_fraction_leaf=0.0, n_estimators=100, n_jobs=1,\n",
      "            oob_score=False, random_state=None, verbose=0,\n",
      "            warm_start=False)\n",
      "Score :  0.8236724766923389\n",
      "********************************************************************************\n",
      "Model :  MLPClassifier(activation='relu', alpha=0.0001, batch_size='auto', beta_1=0.9,\n",
      "       beta_2=0.999, early_stopping=False, epsilon=1e-08,\n",
      "       hidden_layer_sizes=(100,), learning_rate='constant',\n",
      "       learning_rate_init=0.001, max_iter=200, momentum=0.9,\n",
      "       nesterovs_momentum=True, power_t=0.5, random_state=None,\n",
      "       shuffle=True, solver='adam', tol=0.0001, validation_fraction=0.1,\n",
      "       verbose=False, warm_start=False)\n",
      "Score :  0.7053100932306445\n",
      "********************************************************************************\n",
      "Model :  ExtraTreesClassifier(bootstrap=False, class_weight=None, criterion='gini',\n",
      "           max_depth=None, max_features='auto', max_leaf_nodes=None,\n",
      "           min_impurity_decrease=0.0, min_impurity_split=None,\n",
      "           min_samples_leaf=1, min_samples_split=2,\n",
      "           min_weight_fraction_leaf=0.0, n_estimators=10, n_jobs=1,\n",
      "           oob_score=False, random_state=None, verbose=0, warm_start=False)\n",
      "Score :  0.7807053100932306\n",
      "********************************************************************************\n",
      "Model :  GradientBoostingClassifier(criterion='friedman_mse', init=None,\n",
      "              learning_rate=0.1, loss='deviance', max_depth=3,\n",
      "              max_features=None, max_leaf_nodes=None,\n",
      "              min_impurity_decrease=0.0, min_impurity_split=None,\n",
      "              min_samples_leaf=1, min_samples_split=2,\n",
      "              min_weight_fraction_leaf=0.0, n_estimators=100,\n",
      "              presort='auto', random_state=None, subsample=1.0, verbose=0,\n",
      "              warm_start=False)\n",
      "Score :  0.8248885285772193\n",
      "********************************************************************************\n",
      "Model :  DecisionTreeClassifier(class_weight=None, criterion='gini', max_depth=None,\n",
      "            max_features=None, max_leaf_nodes=None,\n",
      "            min_impurity_decrease=0.0, min_impurity_split=None,\n",
      "            min_samples_leaf=1, min_samples_split=2,\n",
      "            min_weight_fraction_leaf=0.0, presort=False, random_state=None,\n",
      "            splitter='best')\n",
      "Score :  0.7470612079448723\n",
      "********************************************************************************\n",
      "Model :  AdaBoostClassifier(algorithm='SAMME.R', base_estimator=None,\n",
      "          learning_rate=1.0, n_estimators=50, random_state=None)\n",
      "Score :  0.8216457235508715\n",
      "********************************************************************************\n",
      "Model :  GaussianNB(priors=None)\n",
      "Score :  0.7053100932306445\n",
      "********************************************************************************\n"
     ]
    }
   ],
   "source": [
    "models = [\n",
    "    RandomForestClassifier(n_estimators=100),\n",
    "    MLPClassifier(),\n",
    "    ExtraTreesClassifier(),\n",
    "    GradientBoostingClassifier(),\n",
    "    DecisionTreeClassifier(),\n",
    "    AdaBoostClassifier(),\n",
    "    GaussianNB()\n",
    "    \n",
    "]\n",
    "\n",
    "for model in models:\n",
    "    model.fit(X_train, y_train)\n",
    "    score = model.score(X_test, y_test)\n",
    "    print(\"Model : \", model)\n",
    "    print(\"Score : \",score)\n",
    "    print(\"**\"*40)"
   ]
  },
  {
   "cell_type": "code",
   "execution_count": 43,
   "metadata": {},
   "outputs": [
    {
     "name": "stdout",
     "output_type": "stream",
     "text": [
      "Model :  GradientBoostingClassifier(criterion='friedman_mse', init=None,\n",
      "              learning_rate=0.1, loss='deviance', max_depth=3,\n",
      "              max_features=None, max_leaf_nodes=None,\n",
      "              min_impurity_decrease=0.0, min_impurity_split=None,\n",
      "              min_samples_leaf=1, min_samples_split=2,\n",
      "              min_weight_fraction_leaf=0.0, n_estimators=100,\n",
      "              presort='auto', random_state=None, subsample=1.0, verbose=0,\n",
      "              warm_start=False)\n",
      "Score :  0.8248885285772193\n"
     ]
    }
   ],
   "source": [
    "model = GradientBoostingClassifier()\n",
    "model.fit(X_train, y_train)\n",
    "score = model.score(X_test, y_test)\n",
    "print(\"Model : \", model)\n",
    "print(\"Score : \",score)"
   ]
  },
  {
   "cell_type": "code",
   "execution_count": 46,
   "metadata": {},
   "outputs": [
    {
     "name": "stdout",
     "output_type": "stream",
     "text": [
      "Random sample number is:  6664\n",
      "Prediction is:  [1]\n",
      "Actual Value is:  1\n"
     ]
    }
   ],
   "source": [
    "#random prediction\n",
    "rand = np.random.randint(0,12330)\n",
    "print(\"Random sample number is: \",rand)\n",
    "sample_data = np.array(new_data.iloc[rand])\n",
    "pred = model.predict(sample_data.reshape(1,8))\n",
    "print(\"Prediction is: \", pred)\n",
    "print(\"Actual Value is: \",target[rand])"
   ]
  },
  {
   "cell_type": "code",
   "execution_count": null,
   "metadata": {},
   "outputs": [],
   "source": []
  }
 ],
 "metadata": {
  "kernelspec": {
   "display_name": "Python 3",
   "language": "python",
   "name": "python3"
  },
  "language_info": {
   "codemirror_mode": {
    "name": "ipython",
    "version": 3
   },
   "file_extension": ".py",
   "mimetype": "text/x-python",
   "name": "python",
   "nbconvert_exporter": "python",
   "pygments_lexer": "ipython3",
   "version": "3.7.0"
  }
 },
 "nbformat": 4,
 "nbformat_minor": 2
}
